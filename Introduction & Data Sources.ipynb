{
 "cells": [
  {
   "cell_type": "markdown",
   "metadata": {},
   "source": [
    "<h1><center>Discovering Opportunities For Opening Crossfit Gym In Toronto</center></h1>"
   ]
  },
  {
   "cell_type": "markdown",
   "metadata": {},
   "source": [
    "<b>Introduction</b>\n",
    "<br></br>\n",
    "<br></br>\n",
    "During IBM Artificial Intelligence Capstone Project, I am using real datasets described below in order to analyze opportunities for opening a crossfit gym in Toronto, Canada. <br></br>\n",
    "All the steps in this data science project will be described step by step. I have started with defining a business case. Other steps are data preparation (collecting, cleansing, feature engineering, etc.), analyzing and final outputs.\n",
    "<br></br>\n",
    "These outputs and concolustions can be used by a stakeholder to make a decision.\n",
    "<br></br>\n",
    "\n",
    "<b>Target Audience</b>\n",
    "\n",
    "My target audience are coming from various groups:\n",
    "1. Enterprenours who lost their jobs due to Covid-19 crisis and are looking for a fresh start. \n",
    "2. People from the neighbourhood who want to start new physical activity.\n",
    "3. Owners of crossfit gym willing to see the sports-market after crisis.\n",
    "<br></br>\n",
    "\n",
    "<b>Data Sources</b>\n",
    "\n",
    "* https://en.wikipedia.org/wiki/List_of_postal_codes_of_Canada - data sources for Toronto neighbourhoods and postal codes, which allows to make an interactive map used further in the project<br></br><br></br>\n",
    "\n",
    "* https://cocl.us/Geospatial_data - csv file provided by Coursera in order to get geolocation coordinates\n",
    "<br></br><br></br>\n",
    "* https://developer.foursquare.com/docs - source for various locations in Toronto and recommendations"
   ]
  },
  {
   "cell_type": "code",
   "execution_count": null,
   "metadata": {},
   "outputs": [],
   "source": []
  }
 ],
 "metadata": {
  "kernelspec": {
   "display_name": "Python 3.8.0 32-bit",
   "language": "python",
   "name": "python38032bitc5a130192fa841f3aa7c763ac4c9b044"
  },
  "language_info": {
   "codemirror_mode": {
    "name": "ipython",
    "version": 3
   },
   "file_extension": ".py",
   "mimetype": "text/x-python",
   "name": "python",
   "nbconvert_exporter": "python",
   "pygments_lexer": "ipython3",
   "version": "3.8.0"
  }
 },
 "nbformat": 4,
 "nbformat_minor": 4
}
